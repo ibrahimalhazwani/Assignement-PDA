{
 "cells": [
  {
   "cell_type": "markdown",
   "metadata": {},
   "source": [
    "Name: Ibrahim Al Hazwani"
   ]
  },
  {
   "cell_type": "code",
   "execution_count": 38,
   "metadata": {},
   "outputs": [],
   "source": [
    "# importing all the library\n",
    "\n",
    "import requests\n",
    "import nltk\n",
    "import csv\n",
    "\n",
    "import pandas as pd\n",
    "import numpy as np\n",
    "import matplotlib.pyplot as plt\n",
    "\n",
    "#from nltk.tokenize import RegexpTokenizer\n",
    "from bs4 import BeautifulSoup\n",
    "from collections import Counter"
   ]
  },
  {
   "cell_type": "code",
   "execution_count": 39,
   "metadata": {},
   "outputs": [
    {
     "name": "stderr",
     "output_type": "stream",
     "text": [
      "[nltk_data] Downloading package punkt to /Users/ibrahim/nltk_data...\n",
      "[nltk_data]   Package punkt is already up-to-date!\n",
      "[nltk_data] Downloading package stopwords to\n",
      "[nltk_data]     /Users/ibrahim/nltk_data...\n",
      "[nltk_data]   Package stopwords is already up-to-date!\n"
     ]
    },
    {
     "data": {
      "text/plain": [
       "True"
      ]
     },
     "execution_count": 39,
     "metadata": {},
     "output_type": "execute_result"
    }
   ],
   "source": [
    "# downloading ntlk library\n",
    "\n",
    "nltk.download('punkt')\n",
    "nltk.download('stopwords')"
   ]
  },
  {
   "cell_type": "code",
   "execution_count": 40,
   "metadata": {},
   "outputs": [],
   "source": [
    "url = 'https://www.imdb.com/title/tt0068646/reviews?ref_=tt_ql_3'\n",
    "path = '../Data/emotionWords.csv'"
   ]
  },
  {
   "cell_type": "code",
   "execution_count": 41,
   "metadata": {},
   "outputs": [],
   "source": [
    "response = requests.get(url)\n",
    "html_soup = BeautifulSoup(response.text, 'html.parser')\n",
    "reviews = html_soup.findAll('div',{'class':\"text show-more__control\"})"
   ]
  },
  {
   "cell_type": "code",
   "execution_count": 42,
   "metadata": {},
   "outputs": [],
   "source": [
    "with open(path) as f:\n",
    "    emoticon = f.read()"
   ]
  },
  {
   "cell_type": "code",
   "execution_count": 43,
   "metadata": {},
   "outputs": [],
   "source": [
    "review = reviews[0:10]"
   ]
  },
  {
   "cell_type": "code",
   "execution_count": 44,
   "metadata": {},
   "outputs": [
    {
     "data": {
      "text/plain": [
       "[<div class=\"text show-more__control\">'The Godfather' is the pinnacle of flawless films! The first time I viewed 'The Godfather' I was in my early teens and it was the most astounding film I had ever seen, and has since then stood as my all-time favourite film. It is due to this that I have been looking forward to writing a review of this unforgettable classic. So let's start from the beginning. The film opens to four words, 'I believe in America', it's crazy to think that this simple line has become a resonant quote solely due to the impact it made on the entrance to the film's \"threshold\". This is just one of the many renowned quotes that litter the film, and believe me, there are a lot. After the first take we are then absorbed into the life of Vito Corleone, brilliantly portrayed by the Oscar- winning performance of Marlon Brando. Vito is a feared man, he is a criminal, he is a mafioso, but above all he is a respected family man, his three sons are depicted by three excellent actors, James Caan, John Cazale and Al Pacino as well as his adopted child Tom Hagen, played by Robert Duvall. The film follows Vito as he attempts to transfer his crime empire to his reluctant son, Michael. With some of the most graphic and gruesome death scenes to have ever been seen in the 1970's film industry (including a certain horse's head), 'The Godfather' epitomises how violence can be used effectively within a film. The Corleone's are some of the greatest antiheroes to have ever been seen on screen, whilst they are villains, the audience will refuse to accept that fact, Coppola does something simple and audacious, he takes the guilt out of organised crime. A film rife with beautiful cinematography, memorable musical scores and well-paced action and drama. Overall, The Godfather is one of Hollywood's greatest critical and commercial successes that gets everything right; a gangster flick that is overflowing with life, rich with emotion and subtle acting, and further blessed with amazing direction from Francis Ford Coppola. Arguably the most unforgettable masterpiece to have ever been made.</div>,\n",
       " <div class=\"text show-more__control\">This isn't just a beautifully crafted gangster film. Or an outstanding family portrait, for that matter. An amazing period piece. A character study. A lesson in filmmaking and an inspiration to generations of actors, directors, screenwriters and producers. For me, this is more: this is the definitive film. 10 stars out of 10.<br/><br/>Favorite films: IMDb.com/list/mkjOKvqlSBs/<br/><br/>Lesser-Known Masterpieces: imdb.com/list/ls070242495/</div>,\n",
       " <div class=\"text show-more__control\">Rather than concentrating on everything that is great about The Godfather, a much easier way for me to judge its quality is on what is bad about it. Almost every film has something that I don't like about it, but I can honestly say that I wouldn't change anything about The Godfather. There is nothing weak about it and nothing that stands out as bad. That's why it gets ten out of ten.<br/><br/>This is one of those films that made me wonder why I hadn't seen it earlier. The acting from everyone involved is great, Marlon Brando comes across perfectly as the head of the family, and James Caan and Al Pacino are excellent as his sons. The soundtrack by Nino Rota is also very memorable, bringing back memories of the film every time I hear it. The plot has to be excellent for it to get ten out of ten, and it is, it's far from predictable and the film is the definition of a great epic.<br/><br/>The film is pretty shocking in the way every death occurs almost instantaneously, and as it spans ten years so many different things happen and every minute of it is great entertainment. It's a well-made and entertaining film that is only the first part of a trilogy, but it stands on its own as a wonderful film in its own right. If you haven't seen it, what are you waiting for? This was one acclaimed film that didn't disappoint.</div>,\n",
       " <div class=\"text show-more__control\">Tell me a movie that is more famous than this. Tell me a movie that has had more parodies spinned off its storyline than this. Tell me one movie that has been as quoted as a much as this. The answer is you can't. No movie has had as much of an impact as The Godfather has had ever since it was released.<br/><br/>The acting was simply amazing, what else could you say. What could be more appealing to people(even today) than watching actors like Al Pacino, Marlon Brando, James Caan, Diane Keaton, Talia Shire and Robert Duvall. This is like heaven for someone who is a fan of movies. With this movie Brando was able to bring himself back into the limelight. His performance as the godfather alone is iconic. His character has been recreated so much in films that it has almost if it has not already become a cliché. His performance though was not a cliché. His performance was subtle and breathtaking. It was so genuine and realistic that it was not just probably but definitely more genuine than Marlon Brando himself. Al Pacino was perfect for this film as well. What a way to start up your career. His character was all about depth and he displayed it perfectly. He was able to display his own inner-battles in his mind as well as the battles he had with his family, friends and enemies. His character was more of a psychological character study than anything else to me. Robert Duvall to me was the glue to the movie. He added a different perspective to everything in just that he was not Italian yet having the respect of the mafia. His character is a man of high authority within the Corleone family who was listened to and insightful;. This was simply perfect giving the film great balance throughout. The rest of the cast was just icing on the cake.<br/><br/>The writing was phenomenal and breathtaking. As mentioned before there has been no movie quoted more than this. It is not even the quotes though that makes the writing in here so perfect. It is the symbolism and meaning that went into every scene. There are countless symbols, messages and lines in here that are so memorable yet it is as realistic as a movie could get.<br/><br/>The directing by Coppola was perfect as well. Not many movies can be 3 hours and yet maintain a good level of interest from the audience like The Godfather. Coppola deserves credit for this. The symbolism and messages that went into every scene also has to do with the directing not just the writing. The movie is so well edited and strung together that the only word that could come to my mind is perfection.<br/><br/>The cinematography and music were perfect. The score of this movie is one of the most memorable ever. If you were to hear it you could identify it right away. The cinematography was what actually really drove this movie. The Godfather seems to have this mystique to it, it gives you the feeling you are watching something truly remarkable.<br/><br/>The horse's head, the scene of Brando running with his groceries, the coffee shop scene, \"I'll give him an offer he can't refuse\" and countless other scenes and quotes from this movie have become a part of our culture. These scenes and lines have been recycled over and over again in comedies, commercials, etc. that it is impossible to avoid the greatness of The Godfather. The Godfather is like a disease once you see it you fall in love with it. I don't know if it is the greatest movie ever but it is definitely the most iconic film ever made.</div>,\n",
       " <div class=\"text show-more__control\">The Godfather is one of the few films in which I personally did not find any significant weakness even after many viewings. From the direction, to the acting, to the storyline, to the score, The Godfather has the word classic written all over, and it really is not much of a surprise that it is now considered by many one of the top five movies of all time. Perhaps when it comes to cinematic techniques The Godfather has not been as revolutionary as Citizen Kane, but its influence on motion pictures is comparable. Rarely a movie has defined or re-defined a genre as much as this one did for \"gangster movies\", but its influence goes well beyond that.<br/><br/>The Godfather's influence has been so big through the years that elements of it can be found in virtually every \"organized crime film\" nowadays; almost every comedy featuring a gangster in the last few years has spoofed something in The Godfather. The Italian-American old mobster a-la Don Vito Corleone has become one of the most established figures in the public's imagination.<br/><br/>But to say that The Godfather is simply \"influential\" is to diminish its true qualities, and so is to describe it simply as \"a movie about gangsters\". The Mafia is certainly the main focus the story revolves around (despite the fact that the word is never mentioned), but although the movie never tries to forcedly insert separate subjects it contains an amount of psychological and social subtexts that cannot be overlooked. Considerations on how the social environments changes us, on how moral values appear different from different point of views, on how violence can destroy a human soul, and on how power can corrupt an individual are deeply blended into a story that stays practically always true to complete realism, and the result is a picture of astonishing efficacy and believability.<br/><br/>As good as the direction and the story are, it would be unfair not to consider the major role that the actors' performances had in the cinematic triumph that was The Godfather. Praised by many as the best cast to ever appear in an American movie, all the cast in The Godfather succeeds in portraying complex, three-dimensional characters without ever making a slip. The exceptional portrayals of Don Vito and Michael Corleone respectively by Marlon Brando and Al Pacino, the performances by Robert Duvall, James Caan and Diane Keaton as Tom Hagen, Santino Corleone and Kay Adams, the ruthless Virgil Sollozzo played by Al Lettieri -- as well as more than a few other roles -- are all perfect for the movie, and they all succeed in making us believe these are real people, not just actors. We are not watching a central character and a bunch of incomplete figures that revolve around him: although Michael Corleone is the character that gets the most screen time, everybody is the center of this world his own way. The movie makes it possible for the viewers to identify with different characters and to observe how their personality and story fits in, and it does it much more effectively than many bloated multiple-storyline movies that came out in the last few years.<br/><br/>The movie opens on the wedding of Don Vito Corleone's daughter, Connie (Talia Shire). Don Corleone is a powerful man, and it was not without the use of violence that he achieved this position during the course of his life. The wedding scene gives a perfect setting of where and how the Don's power extends; from the regular worker in a neighborhood, to the immensely popular singer, to the friends in politics and right to the ruthless killer, Don Corleone has links to people ready to ask him favors and to pay him back. Some are trustworthy, some are not, but thanks to his intelligence and intuit the Don can almost always distinguish the two.<br/><br/>However, this is 1946, times are changing, and to many of the younger people working in the crime business, Don Corleone's ideas are becoming obsolete. The Don believes that the new trend in the business, narcotics, is too dangerous and the families dealing with it would eventually end up self-destroying; while his family had deals in alcohol and gambling for a long time, part of the Government and law enforcement was ready to close one eye. Drugs are another thing.<br/><br/>To this day, Don Corleone was able to keep things together while maintaining his economic and political power, but things will brutally change when a powerful drug dealer name Sollozzo enters the picture. The refusal of Don Corleone to cooperate with Sollozzo, and a weakness immediately spotted by the latter, will ignite a war that will cost many lives, and that will see Michael Corleone, Vito's younger son and the one who never wanted to take part in the family business, lose his \"innocence\" and transform into a gangster as ruthless as the people he initially stood up against.<br/><br/>I purposely decided not to spoil much about the plot because I believe that the film is perfectly enjoyed without knowing anything in advance, and -- believe it or not -- there are still quite a lot of people who have never seen this movie. There are multiple scenes that manage to create an incredible tension, various twists, and although like any other masterpiece The Godfather can be watched knowing the whole story beforehand and still be a phenomenal experience, I believe it is always a pleasure to see it for the first time and enjoy its multiple climaxes. Besides, to outline such complicated characters and such an emotionally intense story in a short review like this one would be inadmissible.<br/><br/>There has been much speculation on how the events in The Godfather novel written by Mario Puzo, the book the film is based on, could be an exposé of true facts. Many believe that the character of Johnny Fontane , for instance, was based on Frank Sinatra's real life, and many of the other characters were modeled after real people. I won't go into that: frankly, I have no idea whether these voices are reliable, although the Frank Sinatra reference seems obviously quite believable.<br/><br/>The cinematography of The Godfather is dark and tasteful, and colors are used perfectly to give a true feel of the era it is set in. There is a fair amount of violence, though rarely gratuitous.<br/><br/>The Godfather certainly doesn't need my recommendation. The film is universally considered one of the best of all time, and the performances by Pacino and Brando alone is the stuff of legends.</div>,\n",
       " <div class=\"text show-more__control\">This is a masterpiece. A timeless masterpiece. Initially, I didn't like this film all that much - I found it rather over-hyped and boring. This was until the advent of DVD, which gave me the feature I needed for this sort of film: subtitles. Once I switched them on and heard (read) every last word of Brando's ramblings and other characters ramblings, I grew a true appreciation for this epic.<br/><br/>To make a true epic, you need all of three following ingredients working in near perfect harmony. For screenwriters who come across this, take the following pointers on board: 1) Contrasting Characters: Good films have some character distinction, but most fall rather flat because the core of each character is the same.<br/><br/>Of course, there are exceptions to rule (ie... where you want mono-tonal characters... aka matrix; or where you want outlandish contrasts... aka The Fifth Element), but ultimately, this is what makes films deep, meaningful and grand. Consider the contrasts between the Don's children. Michael is rather cool, rational and collected, whereas Sonny is more hot-headed, spontaneous and simple minded. But simply having these contrasts is not nearly enough. What you really need to do is to develop these characters - place them in situations - and then dwell on how their character impacts on the situation they're put in. The Godfather is a terrific example of how to pull this off. While many try to do this in screenplays, most lose the plot and create character obscurities that stretch credibility.<br/><br/>2) Transformation: The central character(s) must undergo a transformation, resulting in them being almost unrecognizable by the end of the film. By putting them into situations, the character's character must not only influence the outcome of the situation; it must also have a lasting impact on the character. Consider Michael at the wedding and compare that to the Michael we see at the end of the film. Again, many films try, but most fail because they come up with unreal (literally, not praisingly) or simply moronic transformations (eg, Wall Street).<br/><br/>3) Patience: Men in Black 2 was an astounding film for one simple reason - it was an entire film squashed into about 70 minutes. It was not much longer than an episode of ER or Buffy. I certainly hope the new goal of Hollywood isn't to make films as short as possible.<br/><br/>All the great ones spend time - time developing characters, family life, growth, patience with the story telling in general. This is the key (provided that the story isn't mind-numbingly boring). Dances with Wolves, Heat.. and so on are very patient but top-class films. While studios may be lukewarm on the idea of longer films, they are worth it if you have a ripper story to base it on.<br/><br/>I feel that this film has not dated all that much and has tremendous re-watch-ability.</div>,\n",
       " <div class=\"text show-more__control\">This is by far the best movie ever to give a portrait organized crime, this movie goes deep inside and shows it all inside out..<br/><br/>With superb acting by especially Al Pacino as Mike Corleone and Marlon Brando as Don Vito corleone this movie shows how one of the head mafia families in New York works, it gives a detailed picture of how their business runs and what kinda chances they got to take on their business, for example their denial to step inside the narcotic business brings on alot of troubles, but also it shows what kinda sacrifices they make, every day could be their last day..<br/><br/>Al Pacino shines above all in this movie, as the smart boy of the family he returns after fighting a war for his country, at that time not involved in the family business, but it doesn't take long before the war breaks lose and he see no other ways than to step in and fight for his family.<br/><br/>This is definetely a \"must see\" masterpiece.</div>,\n",
       " <div class=\"text show-more__control\">One of the great movies of its time. Before, and even now is admire as one of the most classic and greatest films of all time. And I agree. I remember when I first watched it I never thought that Sonny would be the one killed, and Michael being the one taking over the family, and ruling with an iron fist. I have to watch at least one or two times a year.</div>,\n",
       " <div class=\"text show-more__control\">I love this movie and all of the GF movies. I see something new every time I have seen it (countless, truly). The story of tragedy and (little) comedy that exists in this film is easily understood by people all over the world. This film has been called an American story however I have met others who have seen this movie in other languages and they seem to have the same love and appreciation for it that I do. I love the characters and all of the different personalities that they represent not just in families but in society itself. It seems like the entire cast is part of every other movie that I love as well. The sounds, music, color and light in the film are just as much a part of the film as the people. This could be attributed to the method in which it was filmed. At many parts of the film I can still find myself feeling the emotions conveyed in the film. I never tire of appreciating this film. I thank God that FFC is an American treasure. We are fortunate to have him.</div>,\n",
       " <div class=\"text show-more__control\">This must rank as the best film (along with part 2)of all time.An ensemble performance that has no weak spot.<br/><br/>Particularly, John Cazale ( Fredo) and Richard Castellano ( Clemenza) give wonderfully understated performances. You just have to believe that Castellano WAS Clemenza, he brings a real touch to his role.<br/><br/>John Cazale brings the troubled Fredo to life, and you can see the weak Fredo desperately trying to live up to the family reputation but knowing that he can never be what his father wants. <br/><br/>The story of one man's reluctance to be drawn into the murky family business,and his gradual change through circumstance, paints a vivid picture of this violent period of US history.<br/><br/>Do not miss this film!</div>]"
      ]
     },
     "execution_count": 44,
     "metadata": {},
     "output_type": "execute_result"
    }
   ],
   "source": [
    "review"
   ]
  },
  {
   "cell_type": "code",
   "execution_count": 45,
   "metadata": {},
   "outputs": [],
   "source": [
    "def token_stem_review(review):\n",
    "    tokens_review = nltk.word_tokenize(review.getText())\n",
    "    stop_words = nltk.corpus.stopwords.words('english')\n",
    "    tokens_wo_stop = [tok for tok in tokens_review if tok not in stop_words]\n",
    "    porter_review = nltk.stem.porter.PorterStemmer() \n",
    "    tokens_review_stemmed = [porter_review.stem(tok) for tok in tokens_wo_stop]\n",
    "    return tokens_review_stemmed"
   ]
  },
  {
   "cell_type": "code",
   "execution_count": 48,
   "metadata": {},
   "outputs": [],
   "source": [
    "def token_stem_emoticon(doc):\n",
    "    #split_emoticon = doc.split()\n",
    "    tokens_emoticon = nltk.word_tokenize(doc)\n",
    "    porter_emoticon = nltk.stem.porter.PorterStemmer()\n",
    "    tokens_emoticon_stemmed = [porter_emoticon.stem(tok) for tok in tokens_emoticon]\n",
    "    return tokens_emoticon_stemmed"
   ]
  },
  {
   "cell_type": "code",
   "execution_count": 49,
   "metadata": {
    "scrolled": true
   },
   "outputs": [
    {
     "name": "stdout",
     "output_type": "stream",
     "text": [
      "['great', 'bad', 'like', 'bad', 'great', 'great', 'pretti', 'great', 'like', 'like', 'great', 'mean', 'good', 'like', 'great', 'like', 'rare', 'good', 'like', 'like', 'rare', 'like', 'good', 'great', 'great', 'like']\n"
     ]
    }
   ],
   "source": [
    "same = []\n",
    "for i in range(len(review)):\n",
    "    a = token_stem_review(review[i])\n",
    "    b = token_stem_emoticon(emoticon)\n",
    "    #print(a)\n",
    "    for word in a:\n",
    "        if word in b:\n",
    "            same.append(word)\n",
    "print(same)"
   ]
  },
  {
   "cell_type": "code",
   "execution_count": 50,
   "metadata": {},
   "outputs": [],
   "source": [
    "count = Counter(same)"
   ]
  },
  {
   "cell_type": "code",
   "execution_count": 31,
   "metadata": {},
   "outputs": [
    {
     "data": {
      "text/plain": [
       "Counter({'great': 8,\n",
       "         'bad': 2,\n",
       "         'like': 9,\n",
       "         'pretti': 1,\n",
       "         'mean': 1,\n",
       "         'good': 3,\n",
       "         'rare': 2})"
      ]
     },
     "execution_count": 31,
     "metadata": {},
     "output_type": "execute_result"
    }
   ],
   "source": [
    "count"
   ]
  },
  {
   "cell_type": "code",
   "execution_count": 32,
   "metadata": {},
   "outputs": [
    {
     "data": {
      "image/png": "[encoded data removed]",
      "text/plain": [
       "<Figure size 432x288 with 1 Axes>"
      ]
     },
     "metadata": {
      "needs_background": "light"
     },
     "output_type": "display_data"
    }
   ],
   "source": [
    "plt.bar(x = count.keys(), height=count.values())\n",
    "plt.ylabel('frequency')\n",
    "plt.xticks(rotation = 'vertical')\n",
    "plt.yticks(np.arange(0, max(count.values())+1, 1))\n",
    "plt.grid(alpha=0.4)\n",
    "plt.show()"
   ]
  },
  {
   "cell_type": "code",
   "execution_count": null,
   "metadata": {},
   "outputs": [],
   "source": []
  }
 ],
 "metadata": {
  "kernelspec": {
   "display_name": "Python 3",
   "language": "python",
   "name": "python3"
  },
  "language_info": {
   "codemirror_mode": {
    "name": "ipython",
    "version": 3
   },
   "file_extension": ".py",
   "mimetype": "text/x-python",
   "name": "python",
   "nbconvert_exporter": "python",
   "pygments_lexer": "ipython3",
   "version": "3.7.4"
  }
 },
 "nbformat": 4,
 "nbformat_minor": 2
}
