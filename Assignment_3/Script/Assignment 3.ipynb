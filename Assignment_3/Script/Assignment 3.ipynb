{
 "cells": [
  {
   "cell_type": "markdown",
   "metadata": {},
   "source": [
    "Name: Ibrahim Al Hazwani  \n",
    "v 1.0"
   ]
  },
  {
   "cell_type": "code",
   "execution_count": 3,
   "metadata": {},
   "outputs": [],
   "source": [
    "import pandas as pd\n",
    "import numpy as np"
   ]
  },
  {
   "cell_type": "code",
   "execution_count": 12,
   "metadata": {},
   "outputs": [],
   "source": [
    "class AboutIris:\n",
    "    \n",
    "    def __init__(self, df):\n",
    "        self.df = df\n",
    "    \n",
    "    # method that reads the data file iris.data.head.csv and load it into a data frame call df\n",
    "    def ReadData():\n",
    "        df = pd.read_csv(\"../Data/iris.data.head.csv\")\n",
    "        return df\n",
    "        \n",
    "    # method that calculates the mean and standard deviation of the first four columns forthe class Iris-setosa\n",
    "    def Iris_Setosa_Info(self):\n",
    "        iris_setosa = self.loc[self[\"class\"] == \"Iris-setosa\"]\n",
    "        means = iris_setosa.iloc[:,0:4].mean()                  \n",
    "        standard = iris_setosa.iloc[:,0:4].std()\n",
    "        return [means],[standard]\n",
    "    \n",
    "    # method that calculates the mean and standard deviation of the first four columns for the class Iris-versicolor\n",
    "    def Iris_Versicolor_Info(self):\n",
    "        iris_versicolor = self.loc[self[\"class\"] == \"Iris-versicolor\"]\n",
    "        means = iris_versicolor.iloc[:,0:4].mean() \n",
    "        standard = iris_versicolor.iloc[:,0:4].std()\n",
    "        return [means],[standard]\n",
    "        \n",
    "    # method that calculates the mean and standard deviation of the first four columns forthe class Iris-virginica    \n",
    "    def Iris_Virginica_Info(self):\n",
    "        iris_virginica = self.loc[self[\"class\"] == \"Iris-virginica\"]\n",
    "        means = iris_virginica.iloc[:,0:4].mean() \n",
    "        standard = iris_virginica.iloc[:,0:4].std()\n",
    "        return [means],[standard]"
   ]
  },
  {
   "cell_type": "code",
   "execution_count": 13,
   "metadata": {},
   "outputs": [],
   "source": [
    "p = AboutIris.ReadData()"
   ]
  },
  {
   "cell_type": "code",
   "execution_count": 14,
   "metadata": {},
   "outputs": [
    {
     "name": "stdout",
     "output_type": "stream",
     "text": [
      "([sepal_length    5.006\n",
      "sepal_width     3.418\n",
      "petal_length    1.464\n",
      "petal_width     0.244\n",
      "dtype: float64], [sepal_length    0.352490\n",
      "sepal_width     0.381024\n",
      "petal_length    0.173511\n",
      "petal_width     0.107210\n",
      "dtype: float64])\n"
     ]
    }
   ],
   "source": [
    "print(AboutIris.Iris_Setosa_Info(p))"
   ]
  },
  {
   "cell_type": "code",
   "execution_count": 10,
   "metadata": {},
   "outputs": [
    {
     "name": "stdout",
     "output_type": "stream",
     "text": [
      "([sepal_length    5.936\n",
      "sepal_width     2.770\n",
      "petal_length    4.260\n",
      "petal_width     1.326\n",
      "dtype: float64], [sepal_length    0.516171\n",
      "sepal_width     0.313798\n",
      "petal_length    0.469911\n",
      "petal_width     0.197753\n",
      "dtype: float64])\n"
     ]
    }
   ],
   "source": [
    "print(AboutIris.Iris_Versicolor_Info(p))"
   ]
  },
  {
   "cell_type": "code",
   "execution_count": 11,
   "metadata": {},
   "outputs": [
    {
     "name": "stdout",
     "output_type": "stream",
     "text": [
      "([sepal_length    6.588\n",
      "sepal_width     2.974\n",
      "petal_length    5.552\n",
      "petal_width     2.026\n",
      "dtype: float64], [sepal_length    0.635880\n",
      "sepal_width     0.322497\n",
      "petal_length    0.551895\n",
      "petal_width     0.274650\n",
      "dtype: float64])\n"
     ]
    }
   ],
   "source": [
    "print(AboutIris.Iris_Virginica_Info(p))"
   ]
  },
  {
   "cell_type": "code",
   "execution_count": null,
   "metadata": {},
   "outputs": [],
   "source": []
  }
 ],
 "metadata": {
  "kernelspec": {
   "display_name": "Python 3",
   "language": "python",
   "name": "python3"
  },
  "language_info": {
   "codemirror_mode": {
    "name": "ipython",
    "version": 3
   },
   "file_extension": ".py",
   "mimetype": "text/x-python",
   "name": "python",
   "nbconvert_exporter": "python",
   "pygments_lexer": "ipython3",
   "version": "3.7.4"
  }
 },
 "nbformat": 4,
 "nbformat_minor": 2
}
